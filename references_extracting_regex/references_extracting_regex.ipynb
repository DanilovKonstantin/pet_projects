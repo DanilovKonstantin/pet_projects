{
 "cells": [
  {
   "cell_type": "code",
   "execution_count": 1,
   "metadata": {
    "scrolled": true
   },
   "outputs": [
    {
     "name": "stdout",
     "output_type": "stream",
     "text": [
      "Collecting python-docx\n",
      "  Downloading python_docx-1.1.0-py3-none-any.whl (239 kB)\n",
      "\u001b[2K     \u001b[38;2;114;156;31m━━━━━━━━━━━━━━━━━━━━━━━━━━━━━━━━━━━━━━━\u001b[0m \u001b[32m239.6/239.6 kB\u001b[0m \u001b[31m1.3 MB/s\u001b[0m eta \u001b[36m0:00:00\u001b[0m MB/s\u001b[0m eta \u001b[36m0:00:01\u001b[0m:01\u001b[0m\n",
      "\u001b[?25hRequirement already satisfied: typing-extensions in /home/kostya/anaconda3/lib/python3.9/site-packages (from python-docx) (4.3.0)\n",
      "Requirement already satisfied: lxml>=3.1.0 in /home/kostya/anaconda3/lib/python3.9/site-packages (from python-docx) (4.9.1)\n",
      "Installing collected packages: python-docx\n",
      "Successfully installed python-docx-1.1.0\n"
     ]
    }
   ],
   "source": [
    "# ! pip install python-docx"
   ]
  },
  {
   "cell_type": "markdown",
   "metadata": {},
   "source": [
    "# References extracting from docx\n",
    "\n",
    "Planned additions\n",
    "* separate complex references"
   ]
  },
  {
   "cell_type": "code",
   "execution_count": 2,
   "metadata": {},
   "outputs": [],
   "source": [
    "import docx\n",
    "import os\n",
    "import pandas as pd\n",
    "import re"
   ]
  },
  {
   "cell_type": "code",
   "execution_count": 3,
   "metadata": {},
   "outputs": [],
   "source": [
    "# check directory and subdirectory for docx\n",
    "\n",
    "paths = []\n",
    "folder = os.getcwd()\n",
    "for root, dirs, files in os.walk(folder):\n",
    "    for file in files:\n",
    "        if file.endswith('docx') and not file.startswith('~'):\n",
    "            paths.append(os.path.join(root, file))"
   ]
  },
  {
   "cell_type": "code",
   "execution_count": 4,
   "metadata": {},
   "outputs": [
    {
     "data": {
      "text/plain": [
       "['/home/kostya/Yandex.Disk/projects/Github/jupyter1/list_of_references/text_with_references.docx']"
      ]
     },
     "execution_count": 4,
     "metadata": {},
     "output_type": "execute_result"
    }
   ],
   "source": [
    "paths"
   ]
  },
  {
   "cell_type": "code",
   "execution_count": 5,
   "metadata": {},
   "outputs": [],
   "source": [
    "# docx reading\n",
    "for path in paths:\n",
    "    doc = docx.Document(path)"
   ]
  },
  {
   "cell_type": "code",
   "execution_count": 6,
   "metadata": {},
   "outputs": [
    {
     "data": {
      "text/plain": [
       "str"
      ]
     },
     "execution_count": 6,
     "metadata": {},
     "output_type": "execute_result"
    }
   ],
   "source": [
    "# getting text\n",
    "text = []\n",
    "for paragraph in doc.paragraphs:\n",
    "    text.append(paragraph.text)\n",
    "#joining list text to str text\n",
    "delimiter = ','\n",
    "text_str = delimiter.join(text)\n",
    "type(text_str)"
   ]
  },
  {
   "cell_type": "code",
   "execution_count": 7,
   "metadata": {},
   "outputs": [
    {
     "data": {
      "text/plain": [
       "['Obu, 2021',\n",
       " 'Hjort et al., 2018',\n",
       " 'Petrone et al., 2006',\n",
       " 'Farquharson et al. 2022',\n",
       " 'Anthony et al. 2018, Kessler et al. 2012, Stephani et al 2020, Gibson et al. 2020, Uhlemann et al. 2021, Romanovsky et al., 2017',\n",
       " 'Romanovsky et al., 2017',\n",
       " 'Uhlemann et al. 2021, Farquharson et al. 2022',\n",
       " 'Uhlemann et al. 2021',\n",
       " 'Ogilvy, A. A., and Bogoslovsky 1979; Kneisel et al 2008',\n",
       " 'Данилов, 2017; Danilov et. Al, 2021, 2022, Антоновская и др., 2023']"
      ]
     },
     "execution_count": 7,
     "metadata": {},
     "output_type": "execute_result"
    }
   ],
   "source": [
    "# extracting refernces from text\n",
    "ref_l = re.findall(r'(?:\\[([^\\]]+))',text_str)\n",
    "ref_l[:10]"
   ]
  },
  {
   "cell_type": "code",
   "execution_count": 8,
   "metadata": {},
   "outputs": [
    {
     "data": {
      "text/plain": [
       "['Obu, 2021',\n",
       " 'Hjort et al., 2018',\n",
       " 'Petrone et al., 2006',\n",
       " 'Farquharson et al. 2022',\n",
       " 'Anthony et al. 2018',\n",
       " 'Kessler et al. 2012',\n",
       " 'Stephani et al 2020',\n",
       " 'Gibson et al. 2020',\n",
       " 'Uhlemann et al. 2021',\n",
       " 'Romanovsky et al., 2017']"
      ]
     },
     "execution_count": 8,
     "metadata": {},
     "output_type": "execute_result"
    }
   ],
   "source": [
    "# split each cel on separate reference if it necessary\n",
    "full_ref = []\n",
    "for i in ref_l:\n",
    "    separate = re.findall(r'(?:[A-ZА-Я][a-zа-я]+\\D+\\s\\d{4}(?:,\\s\\d{4})*)',i)\n",
    "    for sr in separate:\n",
    "        full_ref.append(sr)\n",
    "full_ref[:10]\n",
    "    "
   ]
  },
  {
   "cell_type": "code",
   "execution_count": 9,
   "metadata": {},
   "outputs": [
    {
     "data": {
      "text/html": [
       "<div>\n",
       "<style scoped>\n",
       "    .dataframe tbody tr th:only-of-type {\n",
       "        vertical-align: middle;\n",
       "    }\n",
       "\n",
       "    .dataframe tbody tr th {\n",
       "        vertical-align: top;\n",
       "    }\n",
       "\n",
       "    .dataframe thead th {\n",
       "        text-align: right;\n",
       "    }\n",
       "</style>\n",
       "<table border=\"1\" class=\"dataframe\">\n",
       "  <thead>\n",
       "    <tr style=\"text-align: right;\">\n",
       "      <th></th>\n",
       "      <th>0</th>\n",
       "    </tr>\n",
       "  </thead>\n",
       "  <tbody>\n",
       "    <tr>\n",
       "      <th>0</th>\n",
       "      <td>Obu, 2021</td>\n",
       "    </tr>\n",
       "    <tr>\n",
       "      <th>1</th>\n",
       "      <td>Hjort et al., 2018</td>\n",
       "    </tr>\n",
       "    <tr>\n",
       "      <th>2</th>\n",
       "      <td>Petrone et al., 2006</td>\n",
       "    </tr>\n",
       "    <tr>\n",
       "      <th>3</th>\n",
       "      <td>Farquharson et al. 2022</td>\n",
       "    </tr>\n",
       "    <tr>\n",
       "      <th>4</th>\n",
       "      <td>Anthony et al. 2018</td>\n",
       "    </tr>\n",
       "    <tr>\n",
       "      <th>5</th>\n",
       "      <td>Kessler et al. 2012</td>\n",
       "    </tr>\n",
       "    <tr>\n",
       "      <th>6</th>\n",
       "      <td>Stephani et al 2020</td>\n",
       "    </tr>\n",
       "    <tr>\n",
       "      <th>7</th>\n",
       "      <td>Gibson et al. 2020</td>\n",
       "    </tr>\n",
       "    <tr>\n",
       "      <th>8</th>\n",
       "      <td>Uhlemann et al. 2021</td>\n",
       "    </tr>\n",
       "    <tr>\n",
       "      <th>9</th>\n",
       "      <td>Romanovsky et al., 2017</td>\n",
       "    </tr>\n",
       "  </tbody>\n",
       "</table>\n",
       "</div>"
      ],
      "text/plain": [
       "                         0\n",
       "0                Obu, 2021\n",
       "1       Hjort et al., 2018\n",
       "2     Petrone et al., 2006\n",
       "3  Farquharson et al. 2022\n",
       "4      Anthony et al. 2018\n",
       "5      Kessler et al. 2012\n",
       "6      Stephani et al 2020\n",
       "7       Gibson et al. 2020\n",
       "8     Uhlemann et al. 2021\n",
       "9  Romanovsky et al., 2017"
      ]
     },
     "execution_count": 9,
     "metadata": {},
     "output_type": "execute_result"
    }
   ],
   "source": [
    "#drop duplicates save first\n",
    "clean_full_ref = pd.DataFrame(full_ref).drop_duplicates()\n",
    "clean_full_ref.head(10)"
   ]
  },
  {
   "cell_type": "code",
   "execution_count": 10,
   "metadata": {},
   "outputs": [],
   "source": [
    "#save clean references to exsel\n",
    "clean_full_ref.to_excel('references.xlsx')"
   ]
  },
  {
   "cell_type": "code",
   "execution_count": 11,
   "metadata": {},
   "outputs": [],
   "source": [
    "#save all references from text to exsel\n",
    "pd.DataFrame(ref_l).to_excel('all_references_from text.xlsx')"
   ]
  },
  {
   "cell_type": "code",
   "execution_count": 12,
   "metadata": {},
   "outputs": [],
   "source": [
    "#save all references from text to docx\n",
    "from docx import Document\n",
    "document = Document()\n",
    "p = document.add_paragraph(ref_l)\n",
    "document.save('all_references from_text.docx')"
   ]
  },
  {
   "cell_type": "code",
   "execution_count": 13,
   "metadata": {},
   "outputs": [],
   "source": [
    "#drop duplicate in list\n",
    "#first_unique =[]\n",
    "#for ref in product_names:\n",
    " #   if ref not in first_unique:\n",
    "  #      first_unique.append(ref)\n",
    "#first_unique\n",
    "        "
   ]
  },
  {
   "cell_type": "code",
   "execution_count": null,
   "metadata": {},
   "outputs": [],
   "source": []
  }
 ],
 "metadata": {
  "kernelspec": {
   "display_name": "Python 3 (ipykernel)",
   "language": "python",
   "name": "python3"
  },
  "language_info": {
   "codemirror_mode": {
    "name": "ipython",
    "version": 3
   },
   "file_extension": ".py",
   "mimetype": "text/x-python",
   "name": "python",
   "nbconvert_exporter": "python",
   "pygments_lexer": "ipython3",
   "version": "3.9.13"
  }
 },
 "nbformat": 4,
 "nbformat_minor": 2
}
